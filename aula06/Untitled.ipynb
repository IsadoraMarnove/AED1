{
 "cells": [
  {
   "cell_type": "code",
   "execution_count": 7,
   "id": "e2e0b07a-40af-4f55-a1e4-359b3db8c08e",
   "metadata": {},
   "outputs": [
    {
     "name": "stdin",
     "output_type": "stream",
     "text": [
      "Digite o ano de nascimento:  2005\n",
      "Digite o ano atual:  2024\n"
     ]
    },
    {
     "name": "stdout",
     "output_type": "stream",
     "text": [
      "Essa pessoa tem 19 anos. E 228,\n",
      "E 6935 e 988 semanas.\n"
     ]
    }
   ],
   "source": [
    "ano_nascimento = int(input(\"Digite o ano de nascimento: \"))\n",
    "ano_corrente = int(input(\"Digite o ano atual: \"))\n",
    "idade = ano_corrente - ano_nascimento\n",
    "meses = idade * 12\n",
    "dias = idade * 365\n",
    "semanas = idade * 52\n",
    "print(f\"Essa pessoa tem {idade} anos. E {meses},\")\n",
    "print (f\"E {dias} e {semanas} semanas.\")"
   ]
  },
  {
   "cell_type": "code",
   "execution_count": 13,
   "id": "90bb14e9-9ee5-41af-aeff-1fccec9150e4",
   "metadata": {},
   "outputs": [
    {
     "name": "stdin",
     "output_type": "stream",
     "text": [
      "Digite o salario:  4567.89\n"
     ]
    },
    {
     "name": "stdout",
     "output_type": "stream",
     "text": [
      "O novo salário é R$ 5709.86\n"
     ]
    }
   ],
   "source": [
    "salario = float(input(\"Digite o salario: \"))\n",
    "novo_salario = salario + (salario * 25/100) # novo_salario + salario * 1.25\n",
    "print(f\"O novo salário é R$ {novo_salario:.2f}\")"
   ]
  },
  {
   "cell_type": "code",
   "execution_count": 14,
   "id": "59775fb0-35a3-4cb6-83e4-0e8f5e3ccd5e",
   "metadata": {},
   "outputs": [
    {
     "name": "stdin",
     "output_type": "stream",
     "text": [
      "Digite o raio:  94\n"
     ]
    },
    {
     "name": "stdout",
     "output_type": "stream",
     "text": [
      "A area desse circulo é 27759.112687119414\n"
     ]
    }
   ],
   "source": [
    "from math import pi, pow\n",
    "raio = float(input('Digite o raio: '))\n",
    "area = pi * pow(raio, 2)\n",
    "print(f'A area desse circulo é {area}')"
   ]
  },
  {
   "cell_type": "raw",
   "id": "ae958385-77da-4013-aa05-d66b8350ff58",
   "metadata": {},
   "source": [
    "From math import cell\n",
    "Degrau = float(input('Digite a altura do degrau:')\n",
    "pedireito = float(input('Digite a altura do pé direito:'))\n",
    "pedireito = pe_direito * 100\n",
    "qnt_degraus = cell(pe_direito / degrau)\n",
    "print(F'Serão necessários {qnt_degraus} degraus!')\n"
   ]
  },
  {
   "cell_type": "code",
   "execution_count": null,
   "id": "f0e40087-defe-4fa2-b9d8-3759bfc84278",
   "metadata": {},
   "outputs": [],
   "source": []
  }
 ],
 "metadata": {
  "kernelspec": {
   "display_name": "Python 3 (ipykernel)",
   "language": "python",
   "name": "python3"
  },
  "language_info": {
   "codemirror_mode": {
    "name": "ipython",
    "version": 3
   },
   "file_extension": ".py",
   "mimetype": "text/x-python",
   "name": "python",
   "nbconvert_exporter": "python",
   "pygments_lexer": "ipython3",
   "version": "3.12.4"
  }
 },
 "nbformat": 4,
 "nbformat_minor": 5
}
