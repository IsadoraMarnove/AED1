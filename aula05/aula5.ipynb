{
 "cells": [
  {
   "cell_type": "code",
   "execution_count": 1,
   "id": "f4dbe2da-34dd-41b0-912b-50b8ec281c62",
   "metadata": {},
   "outputs": [
    {
     "name": "stdout",
     "output_type": "stream",
     "text": [
      "Olá Mundo!\n"
     ]
    }
   ],
   "source": [
    "print(\"Olá Mundo!\")"
   ]
  },
  {
   "cell_type": "code",
   "execution_count": 2,
   "id": "ddcfac60-6426-4a99-b33f-c5273dc173d4",
   "metadata": {},
   "outputs": [
    {
     "data": {
      "text/plain": [
       "10"
      ]
     },
     "execution_count": 2,
     "metadata": {},
     "output_type": "execute_result"
    }
   ],
   "source": [
    "5+5"
   ]
  },
  {
   "cell_type": "code",
   "execution_count": 8,
   "id": "e9a4a0b0-6222-44be-a045-66720f5e2bca",
   "metadata": {},
   "outputs": [],
   "source": [
    "nome = \"isadora\""
   ]
  },
  {
   "cell_type": "code",
   "execution_count": 9,
   "id": "898243d7-d033-4344-ad9f-b7dac4de49c6",
   "metadata": {},
   "outputs": [
    {
     "data": {
      "text/plain": [
       "'isadora'"
      ]
     },
     "execution_count": 9,
     "metadata": {},
     "output_type": "execute_result"
    }
   ],
   "source": [
    "nome"
   ]
  },
  {
   "cell_type": "code",
   "execution_count": 10,
   "id": "d09c0b92-e8a7-4e66-ad95-45e28e797054",
   "metadata": {},
   "outputs": [],
   "source": [
    "x = 345"
   ]
  },
  {
   "cell_type": "code",
   "execution_count": 11,
   "id": "efcbf2a0-d42a-489e-b32a-91b1c731b2e6",
   "metadata": {},
   "outputs": [],
   "source": [
    "y = x + 2"
   ]
  },
  {
   "cell_type": "code",
   "execution_count": 12,
   "id": "7ef3eceb-a593-4b88-8b0b-f3a5e67414cd",
   "metadata": {},
   "outputs": [
    {
     "data": {
      "text/plain": [
       "347"
      ]
     },
     "execution_count": 12,
     "metadata": {},
     "output_type": "execute_result"
    }
   ],
   "source": [
    "y"
   ]
  },
  {
   "cell_type": "code",
   "execution_count": 13,
   "id": "76b46307-979a-45c7-b7c1-f3aac71ab301",
   "metadata": {},
   "outputs": [],
   "source": [
    "a = 5"
   ]
  },
  {
   "cell_type": "code",
   "execution_count": 14,
   "id": "b1e17f47-1840-4c92-8505-344bc0256bc6",
   "metadata": {},
   "outputs": [
    {
     "data": {
      "text/plain": [
       "int"
      ]
     },
     "execution_count": 14,
     "metadata": {},
     "output_type": "execute_result"
    }
   ],
   "source": [
    "type (a)"
   ]
  },
  {
   "cell_type": "code",
   "execution_count": null,
   "id": "3e003c83-5ec8-4aa7-aae2-b5fcb4039e58",
   "metadata": {},
   "outputs": [],
   "source": []
  },
  {
   "cell_type": "code",
   "execution_count": 16,
   "id": "69a1cd1e-f641-4bc4-bb3d-c193da9ee4f2",
   "metadata": {},
   "outputs": [],
   "source": [
    "a = True"
   ]
  },
  {
   "cell_type": "code",
   "execution_count": 17,
   "id": "10368b12-4b76-433c-84b8-956aa5ca9643",
   "metadata": {},
   "outputs": [
    {
     "data": {
      "text/plain": [
       "bool"
      ]
     },
     "execution_count": 17,
     "metadata": {},
     "output_type": "execute_result"
    }
   ],
   "source": [
    "type (a)"
   ]
  },
  {
   "cell_type": "code",
   "execution_count": 18,
   "id": "9acf4c9a-293e-4e7a-ba9e-35f468993036",
   "metadata": {},
   "outputs": [],
   "source": [
    "a = 5.6"
   ]
  },
  {
   "cell_type": "code",
   "execution_count": 19,
   "id": "577b9d52-3e6c-48e8-bb00-2ac68bbd6cf3",
   "metadata": {},
   "outputs": [
    {
     "data": {
      "text/plain": [
       "float"
      ]
     },
     "execution_count": 19,
     "metadata": {},
     "output_type": "execute_result"
    }
   ],
   "source": [
    "type(a)"
   ]
  },
  {
   "cell_type": "code",
   "execution_count": 20,
   "id": "b86c7413-971c-4e2d-ae16-fbe5e833ead6",
   "metadata": {},
   "outputs": [],
   "source": [
    "x = 45\n",
    "y = 23"
   ]
  },
  {
   "cell_type": "code",
   "execution_count": 21,
   "id": "751e11ae-fd06-4bd8-9995-f89752217ef2",
   "metadata": {},
   "outputs": [],
   "source": [
    "soma = x + y"
   ]
  },
  {
   "cell_type": "code",
   "execution_count": 22,
   "id": "95aade6a-7805-4adb-9024-63201d180f6e",
   "metadata": {},
   "outputs": [
    {
     "data": {
      "text/plain": [
       "int"
      ]
     },
     "execution_count": 22,
     "metadata": {},
     "output_type": "execute_result"
    }
   ],
   "source": [
    "type (soma)"
   ]
  },
  {
   "cell_type": "code",
   "execution_count": 23,
   "id": "506d1d5d-00e1-472c-8549-2e50e5492f82",
   "metadata": {},
   "outputs": [
    {
     "name": "stdout",
     "output_type": "stream",
     "text": [
      "68\n"
     ]
    }
   ],
   "source": [
    "print (soma)"
   ]
  },
  {
   "cell_type": "code",
   "execution_count": 24,
   "id": "ba903aad-0849-4735-831f-fd154c753630",
   "metadata": {},
   "outputs": [
    {
     "data": {
      "text/plain": [
       "1.9565217391304348"
      ]
     },
     "execution_count": 24,
     "metadata": {},
     "output_type": "execute_result"
    }
   ],
   "source": [
    "x / y"
   ]
  },
  {
   "cell_type": "code",
   "execution_count": 25,
   "id": "875155bd-6dc4-4c48-afbd-d827409edb9a",
   "metadata": {},
   "outputs": [
    {
     "data": {
      "text/plain": [
       "1"
      ]
     },
     "execution_count": 25,
     "metadata": {},
     "output_type": "execute_result"
    }
   ],
   "source": [
    "x // y"
   ]
  },
  {
   "cell_type": "code",
   "execution_count": 26,
   "id": "f9e2fd85-b483-46fa-b38b-cf5cbae77ca0",
   "metadata": {},
   "outputs": [
    {
     "data": {
      "text/plain": [
       "22"
      ]
     },
     "execution_count": 26,
     "metadata": {},
     "output_type": "execute_result"
    }
   ],
   "source": [
    "x % y"
   ]
  },
  {
   "cell_type": "code",
   "execution_count": 27,
   "id": "f4dad6aa-32fe-4109-8919-2e17e2fbaa7c",
   "metadata": {},
   "outputs": [],
   "source": [
    "r = 10_000_000_000"
   ]
  },
  {
   "cell_type": "code",
   "execution_count": 28,
   "id": "84612d55-f122-4a8d-8c13-23d9be2b98f0",
   "metadata": {},
   "outputs": [
    {
     "data": {
      "text/plain": [
       "10000000000"
      ]
     },
     "execution_count": 28,
     "metadata": {},
     "output_type": "execute_result"
    }
   ],
   "source": [
    "r"
   ]
  },
  {
   "cell_type": "code",
   "execution_count": 29,
   "id": "867653c4-fe81-4215-b6ff-34b3de434552",
   "metadata": {},
   "outputs": [
    {
     "data": {
      "text/plain": [
       "105654455657631171893227100372314453125"
      ]
     },
     "execution_count": 29,
     "metadata": {},
     "output_type": "execute_result"
    }
   ],
   "source": [
    "x ** y"
   ]
  },
  {
   "cell_type": "code",
   "execution_count": 1,
   "id": "10ce7263-a656-4449-a178-07bc63e5a370",
   "metadata": {},
   "outputs": [],
   "source": [
    "x = 1111111111111111\n",
    "y = x ** 2"
   ]
  },
  {
   "cell_type": "code",
   "execution_count": 2,
   "id": "f245f66a-03e9-4765-8a9b-c8cd9542b548",
   "metadata": {},
   "outputs": [
    {
     "data": {
      "text/plain": [
       "1111111111111111"
      ]
     },
     "execution_count": 2,
     "metadata": {},
     "output_type": "execute_result"
    }
   ],
   "source": [
    "x"
   ]
  },
  {
   "cell_type": "code",
   "execution_count": 3,
   "id": "f0a35464-d5ae-4a4e-8b7b-0d7eb16b6259",
   "metadata": {},
   "outputs": [],
   "source": [
    "y = 4.5"
   ]
  },
  {
   "cell_type": "code",
   "execution_count": 4,
   "id": "f09e429c-9ac9-4aac-956d-fd145f64a991",
   "metadata": {},
   "outputs": [
    {
     "data": {
      "text/plain": [
       "float"
      ]
     },
     "execution_count": 4,
     "metadata": {},
     "output_type": "execute_result"
    }
   ],
   "source": [
    "type (y)"
   ]
  },
  {
   "cell_type": "code",
   "execution_count": 5,
   "id": "8fe82c2b-4d12-4f94-acc9-b698c050c113",
   "metadata": {},
   "outputs": [],
   "source": [
    "x = True"
   ]
  },
  {
   "cell_type": "code",
   "execution_count": 6,
   "id": "098402ab-4675-431f-9c3f-3e23b75f3836",
   "metadata": {},
   "outputs": [
    {
     "data": {
      "text/plain": [
       "True"
      ]
     },
     "execution_count": 6,
     "metadata": {},
     "output_type": "execute_result"
    }
   ],
   "source": [
    "x"
   ]
  },
  {
   "cell_type": "code",
   "execution_count": 8,
   "id": "0e83d8f0-cc35-4ec9-8791-33bb9d5f46bc",
   "metadata": {},
   "outputs": [],
   "source": [
    "y = False"
   ]
  },
  {
   "cell_type": "code",
   "execution_count": 9,
   "id": "6a0a96ed-4589-494a-a912-6b1f06b19d3b",
   "metadata": {},
   "outputs": [
    {
     "data": {
      "text/plain": [
       "False"
      ]
     },
     "execution_count": 9,
     "metadata": {},
     "output_type": "execute_result"
    }
   ],
   "source": [
    "x and y "
   ]
  },
  {
   "cell_type": "code",
   "execution_count": 10,
   "id": "2c245254-7c05-477e-bf8b-f528b871e226",
   "metadata": {},
   "outputs": [
    {
     "data": {
      "text/plain": [
       "True"
      ]
     },
     "execution_count": 10,
     "metadata": {},
     "output_type": "execute_result"
    }
   ],
   "source": [
    "x or y"
   ]
  },
  {
   "cell_type": "code",
   "execution_count": 11,
   "id": "b26fea42-c3b1-4d71-a9fa-208a632275d7",
   "metadata": {},
   "outputs": [
    {
     "data": {
      "text/plain": [
       "False"
      ]
     },
     "execution_count": 11,
     "metadata": {},
     "output_type": "execute_result"
    }
   ],
   "source": [
    "not x "
   ]
  },
  {
   "cell_type": "markdown",
   "id": "15c496cf-441b-4851-9119-4336f5c0af5b",
   "metadata": {},
   "source": [
    "nome = \"Isadora\""
   ]
  },
  {
   "cell_type": "code",
   "execution_count": 16,
   "id": "6ddec462-2d0c-4d89-a1f8-9003c5763343",
   "metadata": {},
   "outputs": [
    {
     "data": {
      "text/plain": [
       "'Isadora'"
      ]
     },
     "execution_count": 16,
     "metadata": {},
     "output_type": "execute_result"
    }
   ],
   "source": [
    "nome"
   ]
  },
  {
   "cell_type": "code",
   "execution_count": 17,
   "id": "509d2a9d-2e0c-454f-a65d-74e7ad1474ef",
   "metadata": {},
   "outputs": [
    {
     "data": {
      "text/plain": [
       "str"
      ]
     },
     "execution_count": 17,
     "metadata": {},
     "output_type": "execute_result"
    }
   ],
   "source": [
    "type(nome)"
   ]
  },
  {
   "cell_type": "code",
   "execution_count": 18,
   "id": "4a483a74-616a-48ac-a2c3-1e9f66ff9709",
   "metadata": {},
   "outputs": [],
   "source": [
    "prenome = \"Marnove\""
   ]
  },
  {
   "cell_type": "code",
   "execution_count": 20,
   "id": "0a3351e8-7b7d-4d20-953b-68f2c551176a",
   "metadata": {},
   "outputs": [],
   "source": [
    "nome_completo = prenome + nome"
   ]
  },
  {
   "cell_type": "code",
   "execution_count": 21,
   "id": "87ccb5d4-36e6-4800-a40f-aff2d847028b",
   "metadata": {},
   "outputs": [
    {
     "data": {
      "text/plain": [
       "'MarnoveIsadora'"
      ]
     },
     "execution_count": 21,
     "metadata": {},
     "output_type": "execute_result"
    }
   ],
   "source": [
    "nome_completo"
   ]
  },
  {
   "cell_type": "code",
   "execution_count": 22,
   "id": "864c05b4-98e1-419a-bf65-9a3727dd2bc4",
   "metadata": {},
   "outputs": [
    {
     "data": {
      "text/plain": [
       "'IsadoraIsadoraIsadoraIsadora'"
      ]
     },
     "execution_count": 22,
     "metadata": {},
     "output_type": "execute_result"
    }
   ],
   "source": [
    "nome * 4"
   ]
  },
  {
   "cell_type": "code",
   "execution_count": 23,
   "id": "47cd0317-ba13-4a87-88f2-203f7dcb3ecd",
   "metadata": {},
   "outputs": [
    {
     "data": {
      "text/plain": [
       "'I'"
      ]
     },
     "execution_count": 23,
     "metadata": {},
     "output_type": "execute_result"
    }
   ],
   "source": [
    "nome[0]"
   ]
  },
  {
   "cell_type": "code",
   "execution_count": 24,
   "id": "5c8acb0f-8d0e-4391-a834-f01f198bf820",
   "metadata": {},
   "outputs": [
    {
     "data": {
      "text/plain": [
       "'W'"
      ]
     },
     "execution_count": 24,
     "metadata": {},
     "output_type": "execute_result"
    }
   ],
   "source": [
    "chr(87)"
   ]
  },
  {
   "cell_type": "code",
   "execution_count": 25,
   "id": "1ade9c0c-e2cc-4ca4-a638-3d532238feca",
   "metadata": {},
   "outputs": [
    {
     "data": {
      "text/plain": [
       "105"
      ]
     },
     "execution_count": 25,
     "metadata": {},
     "output_type": "execute_result"
    }
   ],
   "source": [
    "ord('i')"
   ]
  },
  {
   "cell_type": "code",
   "execution_count": 26,
   "id": "86712355-9fa1-4d10-aecd-299b0d738387",
   "metadata": {},
   "outputs": [
    {
     "data": {
      "text/plain": [
       "97"
      ]
     },
     "execution_count": 26,
     "metadata": {},
     "output_type": "execute_result"
    }
   ],
   "source": [
    "ord('a')"
   ]
  },
  {
   "cell_type": "code",
   "execution_count": 27,
   "id": "56887d24-155f-42e3-bb8b-39b60c38a355",
   "metadata": {},
   "outputs": [
    {
     "data": {
      "text/plain": [
       "115"
      ]
     },
     "execution_count": 27,
     "metadata": {},
     "output_type": "execute_result"
    }
   ],
   "source": [
    "ord('s')"
   ]
  },
  {
   "cell_type": "code",
   "execution_count": 28,
   "id": "8fa13004-50db-4521-83b5-ddd5e8fdeaf2",
   "metadata": {},
   "outputs": [
    {
     "data": {
      "text/plain": [
       "100"
      ]
     },
     "execution_count": 28,
     "metadata": {},
     "output_type": "execute_result"
    }
   ],
   "source": [
    "ord('d')"
   ]
  },
  {
   "cell_type": "code",
   "execution_count": 29,
   "id": "887ba845-5cee-4ec5-959c-2fe413e5d359",
   "metadata": {},
   "outputs": [
    {
     "data": {
      "text/plain": [
       "111"
      ]
     },
     "execution_count": 29,
     "metadata": {},
     "output_type": "execute_result"
    }
   ],
   "source": [
    "ord('o')"
   ]
  },
  {
   "cell_type": "code",
   "execution_count": 30,
   "id": "dd844e32-c66a-4ae0-9d1d-e81f1978f99b",
   "metadata": {},
   "outputs": [
    {
     "data": {
      "text/plain": [
       "114"
      ]
     },
     "execution_count": 30,
     "metadata": {},
     "output_type": "execute_result"
    }
   ],
   "source": [
    "ord('r')"
   ]
  },
  {
   "cell_type": "code",
   "execution_count": 31,
   "id": "831b8fb3-70e8-4651-8130-c4f5893fb2f2",
   "metadata": {},
   "outputs": [
    {
     "data": {
      "text/plain": [
       "97"
      ]
     },
     "execution_count": 31,
     "metadata": {},
     "output_type": "execute_result"
    }
   ],
   "source": [
    "ord('a')"
   ]
  },
  {
   "cell_type": "code",
   "execution_count": null,
   "id": "d7fbbca1-588c-456e-9a27-6cd190bf7cb3",
   "metadata": {},
   "outputs": [],
   "source": []
  },
  {
   "cell_type": "code",
   "execution_count": null,
   "id": "1099d25e-6130-490c-9a34-20dce43896aa",
   "metadata": {},
   "outputs": [],
   "source": []
  }
 ],
 "metadata": {
  "kernelspec": {
   "display_name": "Python 3 (ipykernel)",
   "language": "python",
   "name": "python3"
  },
  "language_info": {
   "codemirror_mode": {
    "name": "ipython",
    "version": 3
   },
   "file_extension": ".py",
   "mimetype": "text/x-python",
   "name": "python",
   "nbconvert_exporter": "python",
   "pygments_lexer": "ipython3",
   "version": "3.12.4"
  }
 },
 "nbformat": 4,
 "nbformat_minor": 5
}
